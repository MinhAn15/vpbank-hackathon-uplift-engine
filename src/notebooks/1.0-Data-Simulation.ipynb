{
 "cells": [
  {
   "cell_type": "markdown",
   "id": "787c1dee",
   "metadata": {},
   "source": [
    "# 1.0 - Data Simulation\n",
    "\n",
    "This notebook generates a small simulated dataset for Uplift modeling and writes it to `data/sample_data.csv`.\n",
    "Columns: customer_id, age, income, number_of_transactions, treatment, conversion"
   ]
  },
  {
   "cell_type": "code",
   "execution_count": null,
   "id": "9e0d5d25",
   "metadata": {},
   "outputs": [],
   "source": [
    "import numpy as np\n",
    "import pandas as pd\n",
    "import os\n",
    "\n",
    ",\n",
    ",\n",
    "# Number of samples\n",
    "n = 5000\n",
    "\n",
    ",\n",
    ",\n",
    "70\n",
    ",\n",
    "20000\n",
    ",\n",
    ",\n",
    "# Randomized treatment assignment (not perfectly random to allow confounding)\n",
    "# higher-income customers slightly less likely to receive treatment in this sim\n",
    "propensity = 0.4 - (income - income.mean()) / (income.max()-income.min()) * 0.1\n",
    "propensity = np.clip(propensity, 0.05, 0.95)\n",
    "treatment = (np.random.rand(n) < propensity).astype(int)\n",
    "\n",
    ",\n",
    ",\n",
    "-3\n",
    "0.02\n",
    "0.00002\n",
    "0.15\n",
    ",\n",
    ",\n",
    "# Uplift effect for treated individuals (heterogeneous)\n",
    "# e.g., younger and mid-income customers respond more to treatment\n",
    "uplift = 0.02 + 0.03*(age < 35).astype(float) + 0.02*((income>40000)&(income<70000)).astype(float)\n",
    "\n",
    ",\n",
    ",\n",
    "\n",
    "1\n",
    ",\n",
    "# Sample binary outcome\n",
    "conversion = (np.random.rand(n) < conversion_prob).astype(int)\n",
    "\n",
    ",\n",
    ",\n",
    ",\n",
    "# Ensure data directory exists\n",
    "os.makedirs('../../data', exist_ok=True)\n",
    "out_path = os.path.join('../../data', 'sample_data.csv')\n",
    "df.to_csv(out_path, index=False)\n",
    "print(f'Wrote {len(df)} rows to ' + out_path)\n",
    "df.head()"
   ]
  }
 ],
 "metadata": {
  "language_info": {
   "name": "python"
  }
 },
 "nbformat": 4,
 "nbformat_minor": 5
}
